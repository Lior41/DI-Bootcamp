{
 "cells": [
  {
   "cell_type": "code",
   "execution_count": 1,
   "id": "df433285",
   "metadata": {},
   "outputs": [],
   "source": [
    "import pandas as pd"
   ]
  },
  {
   "cell_type": "code",
   "execution_count": 2,
   "id": "2c860724",
   "metadata": {},
   "outputs": [],
   "source": [
    "import numpy as np"
   ]
  },
  {
   "cell_type": "code",
   "execution_count": 6,
   "id": "bae6d839",
   "metadata": {},
   "outputs": [],
   "source": [
    "chipo = pd.read_csv(r\"C:\\Users\\ilayn\\OneDrive\\Documents\\DI-Bootcamp\\week5\\day2\\chipotle.tsv\", sep='\\t')"
   ]
  },
  {
   "cell_type": "code",
   "execution_count": 8,
   "id": "b4da4574",
   "metadata": {},
   "outputs": [
    {
     "name": "stdout",
     "output_type": "stream",
     "text": [
      "   order_id  quantity                              item_name  \\\n",
      "0         1         1           Chips and Fresh Tomato Salsa   \n",
      "1         1         1                                   Izze   \n",
      "2         1         1                       Nantucket Nectar   \n",
      "3         1         1  Chips and Tomatillo-Green Chili Salsa   \n",
      "4         2         2                           Chicken Bowl   \n",
      "5         3         1                           Chicken Bowl   \n",
      "6         3         1                          Side of Chips   \n",
      "7         4         1                          Steak Burrito   \n",
      "8         4         1                       Steak Soft Tacos   \n",
      "9         5         1                          Steak Burrito   \n",
      "\n",
      "                                  choice_description item_price  \n",
      "0                                                NaN     $2.39   \n",
      "1                                       [Clementine]     $3.39   \n",
      "2                                            [Apple]     $3.39   \n",
      "3                                                NaN     $2.39   \n",
      "4  [Tomatillo-Red Chili Salsa (Hot), [Black Beans...    $16.98   \n",
      "5  [Fresh Tomato Salsa (Mild), [Rice, Cheese, Sou...    $10.98   \n",
      "6                                                NaN     $1.69   \n",
      "7  [Tomatillo Red Chili Salsa, [Fajita Vegetables...    $11.75   \n",
      "8  [Tomatillo Green Chili Salsa, [Pinto Beans, Ch...     $9.25   \n",
      "9  [Fresh Tomato Salsa, [Rice, Black Beans, Pinto...     $9.25   \n"
     ]
    }
   ],
   "source": [
    "first_10_rows = chipo.head(10)\n",
    "print(first_10_rows)"
   ]
  },
  {
   "cell_type": "code",
   "execution_count": 9,
   "id": "137fc954",
   "metadata": {},
   "outputs": [
    {
     "name": "stdout",
     "output_type": "stream",
     "text": [
      "4622\n"
     ]
    }
   ],
   "source": [
    "total_entries = chipo.shape[0]\n",
    "print(total_entries)"
   ]
  },
  {
   "cell_type": "code",
   "execution_count": 10,
   "id": "f5fa4688",
   "metadata": {},
   "outputs": [
    {
     "name": "stdout",
     "output_type": "stream",
     "text": [
      "5\n"
     ]
    }
   ],
   "source": [
    "total_columns = chipo.shape[1]\n",
    "print(total_columns)"
   ]
  },
  {
   "cell_type": "code",
   "execution_count": 11,
   "id": "9d47632e",
   "metadata": {},
   "outputs": [
    {
     "name": "stdout",
     "output_type": "stream",
     "text": [
      "['order_id', 'quantity', 'item_name', 'choice_description', 'item_price']\n"
     ]
    }
   ],
   "source": [
    "column_names = chipo.columns.tolist()\n",
    "print(column_names)"
   ]
  },
  {
   "cell_type": "code",
   "execution_count": 12,
   "id": "8c873f6a",
   "metadata": {},
   "outputs": [
    {
     "name": "stdout",
     "output_type": "stream",
     "text": [
      "RangeIndex(start=0, stop=4622, step=1)\n"
     ]
    }
   ],
   "source": [
    "dataframe_index = chipo.index\n",
    "print(dataframe_index)"
   ]
  },
  {
   "cell_type": "code",
   "execution_count": 13,
   "id": "0866e7da",
   "metadata": {},
   "outputs": [
    {
     "name": "stdout",
     "output_type": "stream",
     "text": [
      "Chicken Bowl\n"
     ]
    }
   ],
   "source": [
    "most_ordered_item = chipo['item_name'].value_counts().idxmax()\n",
    "print(most_ordered_item)"
   ]
  },
  {
   "cell_type": "code",
   "execution_count": 14,
   "id": "242aeabd",
   "metadata": {},
   "outputs": [],
   "source": [
    "total_items_ordered = chipo['quantity'].sum()"
   ]
  },
  {
   "cell_type": "code",
   "execution_count": 15,
   "id": "8458d286",
   "metadata": {},
   "outputs": [
    {
     "name": "stdout",
     "output_type": "stream",
     "text": [
      "[Diet Coke]\n"
     ]
    }
   ],
   "source": [
    "most_ordered_choice = chipo['choice_description'].value_counts().idxmax()\n",
    "print(most_ordered_choice)"
   ]
  },
  {
   "cell_type": "code",
   "execution_count": 16,
   "id": "da5dee48",
   "metadata": {},
   "outputs": [],
   "source": [
    "chipo['item_price'] = chipo['item_price'].apply(lambda x: float(x.replace('$', '')))"
   ]
  },
  {
   "cell_type": "code",
   "execution_count": 17,
   "id": "021ef152",
   "metadata": {},
   "outputs": [
    {
     "name": "stdout",
     "output_type": "stream",
     "text": [
      "34500.16\n"
     ]
    }
   ],
   "source": [
    "total_revenue = chipo['item_price'].sum()\n",
    "print(total_revenue)"
   ]
  },
  {
   "cell_type": "code",
   "execution_count": 18,
   "id": "8d63bafe",
   "metadata": {},
   "outputs": [
    {
     "name": "stdout",
     "output_type": "stream",
     "text": [
      "1834\n"
     ]
    }
   ],
   "source": [
    "total_orders = chipo['order_id'].nunique()\n",
    "print(total_orders)"
   ]
  },
  {
   "cell_type": "code",
   "execution_count": 19,
   "id": "b03fe90d",
   "metadata": {},
   "outputs": [],
   "source": [
    "average_order_value = total_revenue / total_orders"
   ]
  },
  {
   "cell_type": "code",
   "execution_count": 20,
   "id": "5861c672",
   "metadata": {},
   "outputs": [
    {
     "name": "stdout",
     "output_type": "stream",
     "text": [
      "50\n"
     ]
    }
   ],
   "source": [
    "unique_items_sold = chipo['item_name'].nunique()\n",
    "print(unique_items_sold)"
   ]
  },
  {
   "cell_type": "code",
   "execution_count": 26,
   "id": "953869f5",
   "metadata": {},
   "outputs": [
    {
     "name": "stdout",
     "output_type": "stream",
     "text": [
      "products that cost more than $10 : 1130\n"
     ]
    }
   ],
   "source": [
    "chipo = pd.read_csv(r\"C:\\Users\\ilayn\\OneDrive\\Documents\\DI-Bootcamp\\week5\\day2\\chipotle.tsv\", sep='\\t')\n",
    "chipo['item_price'] = chipo['item_price'].apply(lambda x: float(x.replace('$', '')))\n",
    "products_over_10 = chipo[chipo['item_price'] > 10].shape[0]\n",
    "print(\"products that cost more than $10 :\", products_over_10)"
   ]
  },
  {
   "cell_type": "markdown",
   "id": "1ee9ca5e",
   "metadata": {},
   "source": [
    "EX3\n"
   ]
  },
  {
   "cell_type": "code",
   "execution_count": 27,
   "id": "7a4321f0",
   "metadata": {},
   "outputs": [],
   "source": [
    "import pandas as pd"
   ]
  },
  {
   "cell_type": "code",
   "execution_count": 29,
   "id": "a4135b59",
   "metadata": {},
   "outputs": [],
   "source": [
    "file_path = r\"C:\\Users\\ilayn\\OneDrive\\Documents\\DI-Bootcamp\\week5\\day2\\u.user\"\n",
    "users = pd.read_csv(file_path, sep='|')"
   ]
  },
  {
   "cell_type": "code",
   "execution_count": 30,
   "id": "9df0ebfd",
   "metadata": {},
   "outputs": [
    {
     "name": "stdout",
     "output_type": "stream",
     "text": [
      "occupation\n",
      "administrator    38.746835\n",
      "artist           31.392857\n",
      "doctor           43.571429\n",
      "educator         42.010526\n",
      "engineer         36.388060\n",
      "entertainment    29.222222\n",
      "executive        38.718750\n",
      "healthcare       41.562500\n",
      "homemaker        32.571429\n",
      "lawyer           36.750000\n",
      "librarian        40.000000\n",
      "marketing        37.615385\n",
      "none             26.555556\n",
      "other            34.523810\n",
      "programmer       33.121212\n",
      "retired          63.071429\n",
      "salesman         35.666667\n",
      "scientist        35.548387\n",
      "student          22.081633\n",
      "technician       33.148148\n",
      "writer           36.311111\n",
      "Name: age, dtype: float64\n"
     ]
    }
   ],
   "source": [
    "mean_age_per_occupation = users.groupby('occupation')['age'].mean()\n",
    "print(mean_age_per_occupation)"
   ]
  },
  {
   "cell_type": "code",
   "execution_count": 31,
   "id": "a5e3c48c",
   "metadata": {},
   "outputs": [
    {
     "name": "stdout",
     "output_type": "stream",
     "text": [
      "Merged along rows (all_data):\n",
      "   ID     Name\n",
      "0   1    Holly\n",
      "1   2    Sarah\n",
      "2   3  Charles\n",
      "3   4   Franck\n",
      "4   5      Eva\n",
      "5   6   Gerard\n",
      "6   7     Yves\n",
      "7   8   Hannah\n",
      "8   9    James\n",
      "9  10    Jules\n",
      "\n",
      "Merged along columns (all_data_col):\n",
      "   ID     Name  ID    Name\n",
      "0   1    Holly   6  Gerard\n",
      "1   2    Sarah   7    Yves\n",
      "2   3  Charles   8  Hannah\n",
      "3   4   Franck   9   James\n",
      "4   5      Eva  10   Jules\n"
     ]
    }
   ],
   "source": [
    "data1 = pd.DataFrame({\n",
    "    'ID': [1, 2, 3, 4, 5],\n",
    "    'Name': ['Holly', 'Sarah', 'Charles', 'Franck', 'Eva']\n",
    "})\n",
    "\n",
    "data2 = pd.DataFrame({\n",
    "    'ID': [6, 7, 8, 9, 10],\n",
    "    'Name': ['Gerard', 'Yves', 'Hannah', 'James', 'Jules']\n",
    "})\n",
    "\n",
    "data3 = pd.DataFrame({\n",
    "    'ID': [1, 2, 3, 4, 5],\n",
    "    'Score': [88, 92, 75, 85, 90]\n",
    "})\n",
    "all_data = pd.concat([data1, data2], ignore_index=True)\n",
    "all_data_col = pd.concat([data1, data2], axis=1)\n",
    "print(\"Merged along rows (all_data):\")\n",
    "print(all_data)\n",
    "print(\"\\nMerged along columns (all_data_col):\")\n",
    "print(all_data_col)"
   ]
  },
  {
   "cell_type": "markdown",
   "id": "1dbce5ed",
   "metadata": {},
   "source": [
    "EXERCICE 5"
   ]
  },
  {
   "cell_type": "code",
   "execution_count": 32,
   "id": "f9407c9e",
   "metadata": {},
   "outputs": [],
   "source": [
    "import pandas as pd"
   ]
  },
  {
   "cell_type": "code",
   "execution_count": 34,
   "id": "35f0257f",
   "metadata": {},
   "outputs": [],
   "source": [
    "file_path = r\"C:\\Users\\ilayn\\OneDrive\\Documents\\DI-Bootcamp\\week5\\day2\\iris.data\"\n",
    "iris = pd.read_csv(file_path, header=None)"
   ]
  },
  {
   "cell_type": "code",
   "execution_count": 35,
   "id": "b204a448",
   "metadata": {},
   "outputs": [
    {
     "name": "stdout",
     "output_type": "stream",
     "text": [
      "sepal_length    0\n",
      "sepal_width     0\n",
      "petal_length    0\n",
      "petal_width     0\n",
      "species         0\n",
      "dtype: int64\n"
     ]
    }
   ],
   "source": [
    "iris.columns = ['sepal_length', 'sepal_width', 'petal_length', 'petal_width', 'species']\n",
    "missing_values = iris.isnull().sum()\n",
    "print(missing_values)"
   ]
  },
  {
   "cell_type": "markdown",
   "id": "f3df3046",
   "metadata": {},
   "source": [
    "EXERCICE 6"
   ]
  },
  {
   "cell_type": "code",
   "execution_count": 36,
   "id": "2081e78c",
   "metadata": {},
   "outputs": [],
   "source": [
    "import pandas as pd"
   ]
  },
  {
   "cell_type": "code",
   "execution_count": 37,
   "id": "c57d4e9e",
   "metadata": {},
   "outputs": [
    {
     "name": "stdout",
     "output_type": "stream",
     "text": [
      "         name   type  hp   evolution pokedex\n",
      "0   Bulbasaur  grass  45     Ivysaur     yes\n",
      "1  Charmander   fire  39  Charmeleon      no\n",
      "2    Squirtle  water  44   Wartortle     yes\n",
      "3    Caterpie    bug  45     Metapod      no\n"
     ]
    }
   ],
   "source": [
    "pokemon_dict = {\n",
    "    'evolution': ['Ivysaur', 'Charmeleon', 'Wartortle', 'Metapod'],\n",
    "    'hp': [45, 39, 44, 45],\n",
    "    'name': ['Bulbasaur', 'Charmander', 'Squirtle', 'Caterpie'],\n",
    "    'pokedex': ['yes', 'no', 'yes', 'no'],\n",
    "    'type': ['grass', 'fire', 'water', 'bug']\n",
    "}\n",
    "pokemon = pd.DataFrame(pokemon_dict)\n",
    "pokemon = pokemon[['name', 'type', 'hp', 'evolution', 'pokedex']]\n",
    "print(pokemon)"
   ]
  },
  {
   "cell_type": "markdown",
   "id": "2ec1a243",
   "metadata": {},
   "source": [
    "EXERCICE 7"
   ]
  },
  {
   "cell_type": "code",
   "execution_count": 38,
   "id": "f92407ff",
   "metadata": {},
   "outputs": [],
   "source": [
    "import pandas as pd"
   ]
  },
  {
   "cell_type": "code",
   "execution_count": 39,
   "id": "73c6d008",
   "metadata": {},
   "outputs": [],
   "source": [
    "file_path = r\"C:\\Users\\ilayn\\OneDrive\\Documents\\DI-Bootcamp\\week5\\day2\\US_Baby_Names_right.txt\"\n",
    "baby_names = pd.read_csv(file_path)"
   ]
  },
  {
   "cell_type": "code",
   "execution_count": 40,
   "id": "19088d6c",
   "metadata": {},
   "outputs": [
    {
     "name": "stdout",
     "output_type": "stream",
     "text": [
      "First 10 entries in baby_names:\n",
      "   Unnamed: 0     Id      Name  Year Gender State  Count\n",
      "0       11349  11350      Emma  2004      F    AK     62\n",
      "1       11350  11351   Madison  2004      F    AK     48\n",
      "2       11351  11352    Hannah  2004      F    AK     46\n",
      "3       11352  11353     Grace  2004      F    AK     44\n",
      "4       11353  11354     Emily  2004      F    AK     41\n",
      "5       11354  11355   Abigail  2004      F    AK     37\n",
      "6       11355  11356    Olivia  2004      F    AK     33\n",
      "7       11356  11357  Isabella  2004      F    AK     30\n",
      "8       11357  11358    Alyssa  2004      F    AK     29\n",
      "9       11358  11359    Sophia  2004      F    AK     28\n"
     ]
    }
   ],
   "source": [
    "print(\"First 10 entries in baby_names:\")\n",
    "print(baby_names.head(10))"
   ]
  },
  {
   "cell_type": "code",
   "execution_count": 41,
   "id": "c6170a53",
   "metadata": {},
   "outputs": [
    {
     "name": "stdout",
     "output_type": "stream",
     "text": [
      "\n",
      "baby_names after removing 'Unnamed: 0' and 'Id' columns:\n",
      "      Name  Year Gender State  Count\n",
      "0     Emma  2004      F    AK     62\n",
      "1  Madison  2004      F    AK     48\n",
      "2   Hannah  2004      F    AK     46\n",
      "3    Grace  2004      F    AK     44\n",
      "4    Emily  2004      F    AK     41\n"
     ]
    }
   ],
   "source": [
    "baby_names = baby_names.drop(columns=['Unnamed: 0', 'Id'])\n",
    "print(\"\\nbaby_names after removing 'Unnamed: 0' and 'Id' columns:\")\n",
    "print(baby_names.head())"
   ]
  },
  {
   "cell_type": "markdown",
   "id": "cb8d2c97",
   "metadata": {},
   "source": [
    "EXERCICE 8"
   ]
  },
  {
   "cell_type": "code",
   "execution_count": 42,
   "id": "92d31e78",
   "metadata": {},
   "outputs": [],
   "source": [
    "import pandas as pd "
   ]
  },
  {
   "cell_type": "code",
   "execution_count": 43,
   "id": "29951ecf",
   "metadata": {},
   "outputs": [
    {
     "name": "stdout",
     "output_type": "stream",
     "text": [
      "The frequency of the dataset is D.\n",
      "            Temperature  Humidity  Wind_Speed\n",
      "Date                                         \n",
      "2021-01-01           30        80           5\n",
      "2021-01-02           31        75           6\n",
      "2021-01-03           29        70           7\n",
      "2021-01-04           32        85           8\n",
      "2021-01-05           33        90           9\n"
     ]
    }
   ],
   "source": [
    "temperature = [30, 31, 29, 32, 33, 34, 28, 27, 25, 35]\n",
    "humidity = [80, 75, 70, 85, 90, 80, 75, 60, 65, 70]\n",
    "wind_speed = [5, 6, 7, 8, 9, 4, 10, 5, 6, 7]\n",
    "date_rng = pd.date_range(start='2021-01-01', end='2021-01-10', freq='D')\n",
    "weather_data = pd.DataFrame({\n",
    "    'Date': date_rng,\n",
    "    'Temperature': temperature,\n",
    "    'Humidity': humidity,\n",
    "    'Wind_Speed': wind_speed\n",
    "})\n",
    "frequency = pd.infer_freq(weather_data['Date'])\n",
    "frequency_message = f\"The frequency of the dataset is {frequency}.\"\n",
    "weather_data.set_index('Date', inplace=True)\n",
    "print(frequency_message)\n",
    "print(weather_data.head())"
   ]
  },
  {
   "cell_type": "code",
   "execution_count": null,
   "id": "a1905c54",
   "metadata": {},
   "outputs": [],
   "source": []
  }
 ],
 "metadata": {
  "kernelspec": {
   "display_name": "Python 3 (ipykernel)",
   "language": "python",
   "name": "python3"
  },
  "language_info": {
   "codemirror_mode": {
    "name": "ipython",
    "version": 3
   },
   "file_extension": ".py",
   "mimetype": "text/x-python",
   "name": "python",
   "nbconvert_exporter": "python",
   "pygments_lexer": "ipython3",
   "version": "3.11.5"
  }
 },
 "nbformat": 4,
 "nbformat_minor": 5
}
