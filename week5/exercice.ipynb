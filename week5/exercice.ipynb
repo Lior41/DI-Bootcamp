{
 "cells": [
  {
   "cell_type": "code",
   "execution_count": 1,
   "id": "7b555012",
   "metadata": {},
   "outputs": [],
   "source": [
    "import numpy as np"
   ]
  },
  {
   "cell_type": "code",
   "execution_count": 2,
   "id": "6e62f1b7",
   "metadata": {},
   "outputs": [],
   "source": [
    "data = np.array(np.random.randint(1, 100, size=25)).reshape(5,5)"
   ]
  },
  {
   "cell_type": "code",
   "execution_count": 3,
   "id": "0ab4439e",
   "metadata": {},
   "outputs": [
    {
     "name": "stdout",
     "output_type": "stream",
     "text": [
      "Original Data Matrix:\n",
      " [[93 18 48 74 28]\n",
      " [73 46 89 32 87]\n",
      " [11 96 94 19 99]\n",
      " [21 17 49 63 48]\n",
      " [17 90 25 38 68]]\n"
     ]
    }
   ],
   "source": [
    "data = np.array(np.random.randint(1, 100, size=25)).reshape(5,5)\n",
    "print(\"Original Data Matrix:\\n\", data)"
   ]
  },
  {
   "cell_type": "code",
   "execution_count": 4,
   "id": "7f3a062f",
   "metadata": {},
   "outputs": [
    {
     "name": "stdout",
     "output_type": "stream",
     "text": [
      "\n",
      "Data Matrix after Swapping Rows:\n",
      " [[93 18 48 74 28]\n",
      " [21 17 49 63 48]\n",
      " [11 96 94 19 99]\n",
      " [73 46 89 32 87]\n",
      " [17 90 25 38 68]]\n"
     ]
    }
   ],
   "source": [
    "data[[1, 3]]= data[[3, 1]]\n",
    "print(\"\\nData Matrix after Swapping Rows:\\n\", data)"
   ]
  },
  {
   "cell_type": "code",
   "execution_count": 5,
   "id": "168596d2",
   "metadata": {},
   "outputs": [
    {
     "name": "stdout",
     "output_type": "stream",
     "text": [
      "\n",
      "Normalized Data:\n",
      " [[0.93181818 0.07954545 0.42045455 0.71590909 0.19318182]\n",
      " [0.11363636 0.06818182 0.43181818 0.59090909 0.42045455]\n",
      " [0.         0.96590909 0.94318182 0.09090909 1.        ]\n",
      " [0.70454545 0.39772727 0.88636364 0.23863636 0.86363636]\n",
      " [0.06818182 0.89772727 0.15909091 0.30681818 0.64772727]]\n"
     ]
    }
   ],
   "source": [
    "normalized_data = (data - np.min(data)) / (np.max(data) - np.min(data))\n",
    "print(\"\\nNormalized Data:\\n\", normalized_data)"
   ]
  },
  {
   "cell_type": "code",
   "execution_count": 6,
   "id": "c779dd40",
   "metadata": {},
   "outputs": [
    {
     "name": "stdout",
     "output_type": "stream",
     "text": [
      "\n",
      "Z-score Normalized Data:\n",
      " [[ 1.3190111  -1.19946733 -0.19207595  0.68099657 -0.8636702 ]\n",
      " [-1.09872819 -1.23304704 -0.15849624  0.31161973 -0.19207595]\n",
      " [-1.43452531  1.41975024  1.35259081 -1.16588761  1.52048938]\n",
      " [ 0.64741685 -0.25923538  1.18469225 -0.72935135  1.11753283]\n",
      " [-1.23304704  1.21827196 -0.96440934 -0.52787308  0.47951829]]\n"
     ]
    }
   ],
   "source": [
    "z_score_data = (data - np.mean(data)) / np.std(data)\n",
    "print(\"\\nZ-score Normalized Data:\\n\", z_score_data)"
   ]
  },
  {
   "cell_type": "code",
   "execution_count": 7,
   "id": "5c6eb3fd",
   "metadata": {},
   "outputs": [
    {
     "name": "stdout",
     "output_type": "stream",
     "text": [
      "\n",
      "Split Arrays:\n",
      " [array([93, 18, 48, 74, 28]), array([21, 17, 49, 63, 48]), array([11, 96, 94, 19, 99]), array([73, 46, 89, 32, 87]), array([17, 90, 25, 38, 68])]\n"
     ]
    }
   ],
   "source": [
    "raveled_data = np.ravel(data)\n",
    "split_arrays = np.array_split(raveled_data, 5)\n",
    "print(\"\\nSplit Arrays:\\n\", split_arrays)"
   ]
  },
  {
   "cell_type": "code",
   "execution_count": 8,
   "id": "10cbc887",
   "metadata": {},
   "outputs": [
    {
     "name": "stdout",
     "output_type": "stream",
     "text": [
      "\n",
      "Dot Product of Vectors:\n",
      " 198\n"
     ]
    }
   ],
   "source": [
    "vector1 = np.array([3, 5, 6, 7, 8])\n",
    "vector2 = np.array([2, 4, 6, 8, 10])\n",
    "dot_product = np.dot(vector1, vector2)\n",
    "print(\"\\nDot Product of Vectors:\\n\", dot_product)"
   ]
  },
  {
   "cell_type": "code",
   "execution_count": 9,
   "id": "20c9d653",
   "metadata": {},
   "outputs": [
    {
     "name": "stdout",
     "output_type": "stream",
     "text": [
      "\n",
      "Matrix Multiplication Result:\n",
      " [[ 744  753  921]\n",
      " [ 602  247  565]\n",
      " [1540  459 1191]]\n"
     ]
    }
   ],
   "source": [
    "data2 = np.random.randint(1, 10, size=(3, 3))\n",
    "matrix_multiplication_result = np.dot(data[:3, :3], data2)\n",
    "print(\"\\nMatrix Multiplication Result:\\n\", matrix_multiplication_result)"
   ]
  },
  {
   "cell_type": "code",
   "execution_count": 10,
   "id": "c7c69897",
   "metadata": {},
   "outputs": [
    {
     "name": "stdout",
     "output_type": "stream",
     "text": [
      "\n",
      "Inverse of a Matrix:\n",
      " [[0.5 0.  0. ]\n",
      " [0.  0.5 0. ]\n",
      " [0.  0.  0.5]]\n"
     ]
    }
   ],
   "source": [
    "identity_matrix = 2 * np.identity(3)\n",
    "inverse_matrix = np.linalg.inv(identity_matrix)\n",
    "print(\"\\nInverse of a Matrix:\\n\", inverse_matrix)"
   ]
  },
  {
   "cell_type": "code",
   "execution_count": 11,
   "id": "8d3dfc52",
   "metadata": {},
   "outputs": [
    {
     "name": "stdout",
     "output_type": "stream",
     "text": [
      "\n",
      "Eigenvalues and Eigenvectors:\n",
      " [153.09760308  71.60093803 -20.69854111] \n",
      " [[-0.64669005 -0.91476654 -0.15257174]\n",
      " [-0.34475169  0.01059067 -0.75061696]\n",
      " [-0.68039566  0.40384404  0.64288104]]\n"
     ]
    }
   ],
   "source": [
    "eigenvalues, eigenvectors = np.linalg.eig(data[:3, :3])\n",
    "print(\"\\nEigenvalues and Eigenvectors:\\n\", eigenvalues, \"\\n\", eigenvectors)"
   ]
  },
  {
   "cell_type": "code",
   "execution_count": 12,
   "id": "632a04ce",
   "metadata": {},
   "outputs": [
    {
     "name": "stdout",
     "output_type": "stream",
     "text": [
      "\n",
      "Missing Values Indices:\n",
      " (array([0, 1, 1, 3, 3], dtype=int64), array([0, 2, 4, 1, 3], dtype=int64))\n"
     ]
    }
   ],
   "source": [
    "nan_indices = np.random.choice(data.size, 5, replace=False)\n",
    "data = data.astype(float) \n",
    "data.ravel()[nan_indices] = np.nan\n",
    "missing_values_indices = np.where(np.isnan(data))\n",
    "print(\"\\nMissing Values Indices:\\n\", missing_values_indices)"
   ]
  },
  {
   "cell_type": "code",
   "execution_count": 13,
   "id": "5ea59a33",
   "metadata": {},
   "outputs": [
    {
     "name": "stdout",
     "output_type": "stream",
     "text": [
      "\n",
      "Data with Replaced Missing Values:\n",
      " [[53.75 18.   48.   74.   28.  ]\n",
      " [21.   17.   53.75 63.   53.75]\n",
      " [11.   96.   94.   19.   99.  ]\n",
      " [73.   53.75 89.   53.75 87.  ]\n",
      " [17.   90.   25.   38.   68.  ]]\n"
     ]
    }
   ],
   "source": [
    "mean_val = np.nanmean(data)\n",
    "data[np.isnan(data)] = mean_val\n",
    "print(\"\\nData with Replaced Missing Values:\\n\", data)"
   ]
  },
  {
   "cell_type": "code",
   "execution_count": null,
   "id": "559a2af7",
   "metadata": {},
   "outputs": [],
   "source": []
  }
 ],
 "metadata": {
  "kernelspec": {
   "display_name": "Python 3 (ipykernel)",
   "language": "python",
   "name": "python3"
  },
  "language_info": {
   "codemirror_mode": {
    "name": "ipython",
    "version": 3
   },
   "file_extension": ".py",
   "mimetype": "text/x-python",
   "name": "python",
   "nbconvert_exporter": "python",
   "pygments_lexer": "ipython3",
   "version": "3.11.5"
  }
 },
 "nbformat": 4,
 "nbformat_minor": 5
}
